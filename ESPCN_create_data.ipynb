{
 "cells": [
  {
   "cell_type": "markdown",
   "metadata": {},
   "source": [
    "ESPCN_create_data\n"
   ]
  },
  {
   "cell_type": "code",
   "execution_count": 1,
   "metadata": {
    "collapsed": true
   },
   "outputs": [],
   "source": [
    "import torch \n",
    "from torch import nn,optim\n",
    "import torch.nn.functional as F\n",
    "import numpy as np\n",
    "import matplotlib.pyplot as plt\n",
    "import cv2\n",
    "import os\n",
    "import h5py\n",
    "import torch.utils.data as dataf\n",
    "from torchsummary import summary\n",
    "import math"
   ]
  },
  {
   "cell_type": "code",
   "execution_count": 2,
   "metadata": {
    "collapsed": true
   },
   "outputs": [],
   "source": [
    "upscale = 2\n",
    "patch_size = 12\n",
    "label_size = 24\n",
    "stride_step = 12 # 步长\n"
   ]
  },
  {
   "cell_type": "code",
   "execution_count": 3,
   "metadata": {
    "collapsed": true
   },
   "outputs": [],
   "source": [
    "Train_path = 'Train/'\n",
    "Test_path = 'Test/Set14/'"
   ]
  },
  {
   "cell_type": "code",
   "execution_count": 4,
   "metadata": {
    "collapsed": true
   },
   "outputs": [],
   "source": [
    "def create_data(_path):\n",
    "    names = os.listdir(_path)\n",
    "    names = sorted(names)     # 排序\n",
    "    nums = names.__len__() # 训练图片的数量\n",
    "    \n",
    "    data = []\n",
    "    label = []\n",
    "    \n",
    "    for i in range(nums):\n",
    "        \n",
    "        name = _path + names[i]\n",
    "        hr_img = cv2.imread(name,cv2.IMREAD_COLOR)\n",
    "        hr_img = cv2.cvtColor(hr_img,cv2.COLOR_BGR2YCrCb)\n",
    "        hr_img = hr_img[:,:,0]\n",
    "        shape = hr_img.shape  # shape[0] -> 行,也就是高度 shape[1] -> 列,也就是宽度\n",
    "        #释放 注释 查看 training img gray 图像\n",
    "        #cv2.imshow('source img',hr_img)\n",
    "        #cv2.waitKey(0) \n",
    "        \n",
    "        lr_img = cv2.resize(hr_img,(int(shape[1]*patch_size/label_size),int(shape[0]*patch_size/label_size)))\n",
    "        shape_l = lr_img.shape\n",
    "        height_loop_num = (shape_l[0]- patch_size)/stride_step\n",
    "        width_loop_num = (shape_l[1]- patch_size)/stride_step\n",
    "        \n",
    "        \n",
    "        for i in range(int(height_loop_num)):\n",
    "            for j in range(int(width_loop_num)):\n",
    "                x = i * stride_step\n",
    "                y = j * stride_step\n",
    "                lr_patch = lr_img[x:x+patch_size,y:y+patch_size]\n",
    "                x_h = math.floor(x*label_size/patch_size)\n",
    "                y_h = math.floor(y*label_size/patch_size)\n",
    "                hr_patch = hr_img[x_h:x_h+label_size,y_h:y_h+label_size]\n",
    "                #cv2.imshow(\"lr\", lr_patch)\n",
    "                #cv2.imshow(\"hr\", hr_patch)\n",
    "                #cv2.waitKey(0)\n",
    "        \n",
    "                #归一化 (0,1)\n",
    "                hr_patch = hr_patch.astype(float) / 255.\n",
    "                lr_patch = lr_patch.astype(float) / 255.\n",
    "                \n",
    "                hr = np.zeros((1,label_size,label_size),dtype = np.double)\n",
    "                lr = np.zeros((1,patch_size,patch_size),dtype = np.double)\n",
    "                \n",
    "                hr[0,:,:] = hr_patch\n",
    "                lr[0,:,:] = lr_patch\n",
    "                \n",
    "                data.append(lr)\n",
    "                label.append(hr)\n",
    "                \n",
    "        \n",
    "    data = np.array(data,dtype=float)\n",
    "    label = np.array(label,dtype=float)\n",
    "    return data,label \n",
    "        \n",
    "        \n",
    "        \n",
    "        \n",
    "        \n",
    "        \n",
    "        \n",
    "        \n",
    "        \n",
    "        \n",
    "        \n",
    "        \n",
    "        \n",
    "        \n",
    "        \n",
    "        "
   ]
  },
  {
   "cell_type": "code",
   "execution_count": 5,
   "metadata": {
    "collapsed": true
   },
   "outputs": [],
   "source": [
    "data,label = create_data(Train_path)"
   ]
  },
  {
   "cell_type": "code",
   "execution_count": 6,
   "metadata": {},
   "outputs": [
    {
     "data": {
      "text/plain": [
       "((6880, 1, 12, 12), (6880, 1, 24, 24))"
      ]
     },
     "execution_count": 6,
     "metadata": {},
     "output_type": "execute_result"
    }
   ],
   "source": [
    "data.shape,label.shape"
   ]
  },
  {
   "cell_type": "code",
   "execution_count": 7,
   "metadata": {
    "collapsed": true
   },
   "outputs": [],
   "source": [
    "x = data.astype(np.float32)\n",
    "y = label.astype(np.float32)\n",
    "with h5py.File('ESPCN_train_data.h5', 'w') as h:\n",
    "        h.create_dataset('data', data=x, shape=x.shape)\n",
    "        h.create_dataset('label', data=y, shape=y.shape)"
   ]
  },
  {
   "cell_type": "code",
   "execution_count": 9,
   "metadata": {},
   "outputs": [
    {
     "data": {
      "text/plain": [
       "((4917, 1, 12, 12), (4917, 1, 24, 24))"
      ]
     },
     "execution_count": 9,
     "metadata": {},
     "output_type": "execute_result"
    }
   ],
   "source": [
    "test_data,test_label = create_data(Test_path)\n",
    "test_data.shape,test_label.shape"
   ]
  },
  {
   "cell_type": "code",
   "execution_count": 10,
   "metadata": {
    "collapsed": true
   },
   "outputs": [],
   "source": [
    "x = test_data.astype(np.float32)\n",
    "y = test_label.astype(np.float32)\n",
    "with h5py.File('ESPCN_test_data.h5', 'w') as h:\n",
    "        h.create_dataset('data', data=x, shape=x.shape)\n",
    "        h.create_dataset('label', data=y, shape=y.shape)"
   ]
  },
  {
   "cell_type": "code",
   "execution_count": null,
   "metadata": {
    "collapsed": true
   },
   "outputs": [],
   "source": []
  }
 ],
 "metadata": {
  "kernelspec": {
   "display_name": "Python 3",
   "language": "python",
   "name": "python3"
  },
  "language_info": {
   "codemirror_mode": {
    "name": "ipython",
    "version": 3
   },
   "file_extension": ".py",
   "mimetype": "text/x-python",
   "name": "python",
   "nbconvert_exporter": "python",
   "pygments_lexer": "ipython3",
   "version": "3.6.2"
  }
 },
 "nbformat": 4,
 "nbformat_minor": 2
}
