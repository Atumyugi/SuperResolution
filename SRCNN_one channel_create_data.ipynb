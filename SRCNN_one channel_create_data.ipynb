{
 "cells": [
  {
   "cell_type": "markdown",
   "metadata": {},
   "source": [
    "用pytorch实现SRCNN\n",
    "单通道"
   ]
  },
  {
   "cell_type": "code",
   "execution_count": 3,
   "metadata": {},
   "outputs": [],
   "source": [
    "import torch \n",
    "from torch import nn,optim\n",
    "import torch.nn.functional as F\n",
    "import numpy as np\n",
    "import matplotlib.pyplot as plt\n",
    "import cv2\n",
    "import os\n",
    "import h5py\n",
    "import torch.utils.data as dataf"
   ]
  },
  {
   "cell_type": "code",
   "execution_count": 4,
   "metadata": {
    "collapsed": true
   },
   "outputs": [],
   "source": [
    "scale = 2  # 创建training data时,图像hr转lr的重构过程中,图像放大和缩小的倍数\n",
    "create_patch_step = 16 #创建补丁时,跨越的像素点\n",
    "patch_size = 32  #补丁的尺寸\n",
    "label_size = 20 # 32-6-6 = 20"
   ]
  },
  {
   "cell_type": "code",
   "execution_count": 5,
   "metadata": {
    "collapsed": true
   },
   "outputs": [],
   "source": [
    "Train_path = 'Train/'\n",
    "Test_path = 'Test/Set14/'\n"
   ]
  },
  {
   "cell_type": "code",
   "execution_count": 6,
   "metadata": {
    "collapsed": true
   },
   "outputs": [],
   "source": [
    "def create_train_data(_path):\n",
    "    names = os.listdir(_path)  # 读取训练数据路径\n",
    "    names = sorted(names)     # 排序\n",
    "    nums = names.__len__()    # 训练图片的数量\n",
    "    \n",
    "    data = []\n",
    "    label = []\n",
    "    \n",
    "    for i in range(nums):\n",
    "        name = _path + names[i] #每个LOOP分割的图像\n",
    "        hr_img = cv2.imread(name,cv2.IMREAD_COLOR)\n",
    "        hr_img = cv2.cvtColor(hr_img,cv2.COLOR_BGR2YCrCb)\n",
    "        hr_img = hr_img[:,:,0]\n",
    "        shape = hr_img.shape  # shape[0] -> 行,也就是高度 shape -> 列,也就是宽度\n",
    "        #释放 注释 查看 training img gray 图像\n",
    "        #cv2.imshow('source img',hr_img)\n",
    "        #cv2.waitKey(0)         \n",
    "        \n",
    "        #两次图像重构,产生训练数据和训练标签 resize 是输入 宽*高*通道\n",
    "        lr_img = cv2.resize(hr_img,(int(shape[1] / scale), int(shape[0] / scale)))\n",
    "        lr_img = cv2.resize(lr_img, (shape[1], shape[0]))\n",
    "        # create_patch_step = 16 创建补丁时,跨越的像素点\n",
    "        # path_size = 32  补丁的尺寸\n",
    "        \n",
    "        height_loop_num = (shape[0]- patch_size)/ create_patch_step\n",
    "        width_loop_num = (shape[1] - patch_size)/ create_patch_step\n",
    "        for row in range(int(height_loop_num)): #高度Loop\n",
    "            for column in range(int(width_loop_num)): #宽度Loop\n",
    "                x = row * create_patch_step\n",
    "                y = column * create_patch_step\n",
    "                hr_patch = hr_img[x:x+patch_size,y:y+patch_size]\n",
    "                lr_patch = lr_img[x:x+patch_size,y:y+patch_size]\n",
    "                \n",
    "                # 归一化 (0,1)\n",
    "                hr_patch = hr_patch.astype(float) / 255.\n",
    "                lr_patch = lr_patch.astype(float) / 255.\n",
    "                #cv2.imshow(\"lr\", lr_patch)\n",
    "                #cv2.imshow(\"hr\", hr_patch)\n",
    "                #cv2.waitKey(0)\n",
    "                hr = np.zeros((1,label_size,label_size),dtype = np.double)\n",
    "                lr = np.zeros((1,patch_size,patch_size),dtype = np.double)\n",
    "                \n",
    "                hr[0,:,:] = hr_patch[6:-6 , 6:-6] #去掉 6像素的块 \n",
    "                lr[0,:,:] = lr_patch\n",
    "                \n",
    "                data.append(lr)\n",
    "                label.append(hr)\n",
    "    data = np.array(data,dtype=float)\n",
    "    label = np.array(label,dtype=float)\n",
    "    return data,label   \n",
    "        "
   ]
  },
  {
   "cell_type": "code",
   "execution_count": 7,
   "metadata": {},
   "outputs": [
    {
     "data": {
      "text/plain": [
       "((14901, 1, 32, 32), (14901, 1, 20, 20))"
      ]
     },
     "execution_count": 7,
     "metadata": {},
     "output_type": "execute_result"
    }
   ],
   "source": [
    "data,label = create_train_data(Train_path)\n",
    "data.shape,label.shape"
   ]
  },
  {
   "cell_type": "code",
   "execution_count": 8,
   "metadata": {},
   "outputs": [],
   "source": [
    "x = data.astype(np.float32)\n",
    "y = label.astype(np.float32)\n",
    "with h5py.File('train_data.h5', 'w') as h:\n",
    "        h.create_dataset('data', data=x, shape=x.shape)\n",
    "        h.create_dataset('label', data=y, shape=y.shape)\n",
    "        "
   ]
  },
  {
   "cell_type": "code",
   "execution_count": 9,
   "metadata": {
    "collapsed": true
   },
   "outputs": [],
   "source": [
    "data = torch.from_numpy(data)\n",
    "label = torch.from_numpy(label)"
   ]
  },
  {
   "cell_type": "code",
   "execution_count": null,
   "metadata": {
    "collapsed": true
   },
   "outputs": [],
   "source": []
  }
 ],
 "metadata": {
  "kernelspec": {
   "display_name": "Python 3",
   "language": "python",
   "name": "python3"
  },
  "language_info": {
   "codemirror_mode": {
    "name": "ipython",
    "version": 3
   },
   "file_extension": ".py",
   "mimetype": "text/x-python",
   "name": "python",
   "nbconvert_exporter": "python",
   "pygments_lexer": "ipython3",
   "version": "3.6.2"
  }
 },
 "nbformat": 4,
 "nbformat_minor": 2
}
